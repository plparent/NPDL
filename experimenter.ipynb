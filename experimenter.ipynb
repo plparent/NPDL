{
 "cells": [
  {
   "cell_type": "code",
   "execution_count": null,
   "metadata": {},
   "outputs": [],
   "source": [
    "import random\n",
    "import numpy as np\n",
    "from utils.data_utils import load_CIFAR10\n",
    "import matplotlib.pyplot as plt\n",
    "%matplotlib inline\n",
    "plt.rcParams['figure.figsize'] = (10.0, 8.0) # set default size of plots\n",
    "plt.rcParams['image.interpolation'] = 'nearest'\n",
    "plt.rcParams['image.cmap'] = 'gray'\n",
    "\n",
    "# Pour automatiquement recharger les modules externes\n",
    "# voir http://stackoverflow.com/questions/1907993/autoreload-of-modules-in-ipython\n",
    "%load_ext autoreload\n",
    "%autoreload 2"
   ]
  },
  {
   "cell_type": "code",
   "execution_count": null,
   "metadata": {},
   "outputs": [],
   "source": [
    "def get_CIFAR10_data(num_training=49000, num_validation=1000, num_test=1000, num_dev=500):\n",
    "    \"\"\"\n",
    "    Charger la banque de données CIFAR-10, prétraiter les images et ajouter une dimension pour le biais.\n",
    "    \n",
    "    Input :\n",
    "    - num_training : nombre d'images à mettre dans l'ensemble d'entrainement\n",
    "    - num_validation : nombre d'images à mettre dans l'ensemble de validation\n",
    "    - num_test : nombre d'images à mettre dans l'ensemble de test\n",
    "    - num_dev : d'images à mettre dans l'ensemble dev\n",
    "    \n",
    "    Output :\n",
    "    - X_train, y_train : données et cibles d'entrainement\n",
    "    - X_val, y_val: données et cibles de validation\n",
    "    - X_test y_test: données et cibles de test \n",
    "    - X_dev, y_dev: données et cicles dev\n",
    "    \"\"\"\n",
    "    # Charger les données CIFAR-10\n",
    "    cifar10_dir = 'datasets/cifar-10-batches-py'\n",
    "    X_train, y_train, X_test, y_test = load_CIFAR10(cifar10_dir)\n",
    "  \n",
    "    # Séparer en ensembles d'entraînement, de validation, de test et de dev\n",
    "    mask = range(num_training, num_training + num_validation)\n",
    "    X_val = X_train[mask]\n",
    "    y_val = y_train[mask]\n",
    "    mask = range(num_training)\n",
    "    X_train = X_train[mask]\n",
    "    y_train = y_train[mask]\n",
    "    mask = range(num_test)\n",
    "    X_test = X_test[mask]\n",
    "    y_test = y_test[mask]\n",
    "    mask = np.random.choice(num_training, num_dev, replace=False)\n",
    "    X_dev = X_train[mask]\n",
    "    y_dev = y_train[mask]\n",
    "    \n",
    "    X_train = X_train.transpose(0, 3, 1, 2)\n",
    "    X_test = X_test.transpose(0, 3, 1, 2)\n",
    "    X_val = X_val.transpose(0, 3, 1, 2)\n",
    "    X_dev = X_dev.transpose(0, 3, 1, 2)\n",
    "\n",
    "    # Normalisation\n",
    "    X_train -= np.mean(X_train, axis = 0)\n",
    "    X_val -= np.mean(X_val, axis = 0)\n",
    "    X_test -= np.mean(X_test, axis = 0)\n",
    "    X_dev -= np.mean(X_dev, axis = 0)\n",
    "\n",
    "    return X_train, y_train, X_val, y_val, X_test, y_test, X_dev, y_dev"
   ]
  },
  {
   "cell_type": "code",
   "execution_count": null,
   "metadata": {},
   "outputs": [],
   "source": [
    "from layers.BatchNorm import SpatialBatchNorm\n",
    "from layers.Conv import Conv2DCython\n",
    "from layers.Dense import Dense\n",
    "from layers.Flatten import Flatten\n",
    "from layers.MaxPool import MaxPool2DCython\n",
    "from model.Model import Model\n",
    "from utils.model_loss import cross_entropy_loss_npdl\n",
    "\n",
    "input_size = 32\n",
    "\n",
    "# paramètres de convolution\n",
    "num_filters = 32\n",
    "filter_size = 7\n",
    "channels = 3\n",
    "stride = 1\n",
    "pad = int((filter_size - 1)/2)\n",
    "\n",
    "# paramètres de maxpooling\n",
    "conv_out_size = input_size\n",
    "pool_out_size = int(conv_out_size / 2)\n",
    "\n",
    "# paramètres dense\n",
    "num_classes = 10\n",
    "\n",
    "def create_model(hidden_dim, weight_scale):\n",
    "    model = Model()\n",
    "    \n",
    "    conv1 = Conv2DCython(num_filters, filter_size=filter_size, channels=channels, padding=pad, weight_scale=weight_scale)\n",
    "    batchnorm1 = SpatialBatchNorm(num_filters, activation='relu')\n",
    "    maxpool1 = MaxPool2DCython(pooling_size=2, stride=2)\n",
    "    \n",
    "    flatten1 = Flatten()\n",
    "    dense1 = Dense(dim_input=num_filters*pool_out_size*pool_out_size, dim_output=hidden_dim, weight_scale=weight_scale, activation='relu')\n",
    "    dense2 = Dense(dim_input=hidden_dim, dim_output=num_classes, weight_scale=weight_scale)\n",
    "    \n",
    "    model.add(conv1)\n",
    "    model.add(batchnorm1)\n",
    "    model.add(maxpool1)\n",
    "    model.add(flatten1)\n",
    "    model.add(dense1)\n",
    "    model.add(dense2)\n",
    "    model.add_loss(cross_entropy_loss_npdl)\n",
    "    \n",
    "    return model\n",
    "\n",
    "\n",
    "def create_fully_conv_cnn(hidden_dim, weight_scale):\n",
    "    model = Model()\n",
    "    \n",
    "    conv1 = Conv2DCython(num_filters, filter_size=filter_size, channels=channels, padding=pad, weight_scale=weight_scale)\n",
    "    batchnorm1 = SpatialBatchNorm(num_filters, activation='relu')\n",
    "    maxpool1 = MaxPool2DCython(pooling_size=2, stride=2)\n",
    "    \n",
    "    conv2 = Conv2DCython(hidden_size, filter_size=pool_out_size, channels=num_filters, weight_scale=weight_scale, activation='relu')\n",
    "    conv3 = Conv2DCython(num_classes, filter_size=1, channels=hidden_size, weight_scale=weight_scale)\n",
    "    flatten = Flatten()\n",
    "    \n",
    "    model.add(conv1)\n",
    "    model.add(batchnorm1)\n",
    "    model.add(maxpool1)\n",
    "    model.add(conv2)\n",
    "    model.add(conv3)\n",
    "    model.add(flatten)\n",
    "    model.add_loss(cross_entropy_loss_npdl)\n",
    "    \n",
    "    return model"
   ]
  },
  {
   "cell_type": "code",
   "execution_count": null,
   "metadata": {},
   "outputs": [],
   "source": [
    "from model.Solver import Adam\n",
    "\n",
    "\n",
    "model = create_model(100, 1e-2)\n",
    "optimizer = Adam(1e-3, model)"
   ]
  },
  {
   "cell_type": "code",
   "execution_count": null,
   "metadata": {},
   "outputs": [],
   "source": [
    "from model.Experimenter import Experimenter\n",
    "\n",
    "experimenter = Experimenter(optimizer)"
   ]
  },
  {
   "cell_type": "code",
   "execution_count": null,
   "metadata": {},
   "outputs": [],
   "source": [
    "X_train, y_train, X_val, y_val, X_test, y_test, X_dev, y_dev = get_CIFAR10_data()\n",
    "print('Train data shape: ', X_train.shape)\n",
    "print('Train labels shape: ', y_train.shape)\n",
    "print('Validation data shape: ', X_val.shape)\n",
    "print('Validation labels shape: ', y_val.shape)\n",
    "print('Test data shape: ', X_test.shape)\n",
    "print('Test labels shape: ', y_test.shape)\n",
    "print('dev data shape: ', X_dev.shape)\n",
    "print('dev labels shape: ', y_dev.shape)"
   ]
  },
  {
   "cell_type": "code",
   "execution_count": null,
   "metadata": {},
   "outputs": [],
   "source": [
    "data = {\n",
    "    'X':X_train[:1000],\n",
    "    'y':y_train[:1000],\n",
    "}\n",
    "\n",
    "hyperparams_grid = {\n",
    "    'lr':[1e-2, 1e-3],\n",
    "    'reg':[0.0, 0.1],\n",
    "    'batch_size':[200],\n",
    "    'lr_decay':[1.0, 0.95]\n",
    "}\n",
    "\n",
    "hyperparams_random = {\n",
    "    'lr':(1e-2, 1e-3),\n",
    "    'reg':(0.0, 0.1),\n",
    "    'lr_decay':(1.0, 0.95),\n",
    "    'batch_size':200\n",
    "}"
   ]
  },
  {
   "cell_type": "code",
   "execution_count": null,
   "metadata": {
    "collapsed": true,
    "jupyter": {
     "outputs_hidden": true
    }
   },
   "outputs": [],
   "source": [
    "best_hyperparams_grid, best_experiment_id_grid = experimenter.hyperparam_grid_search(data, epochs=2, K=2, hyperparams=hyperparams_grid, experiment_id='grid')"
   ]
  },
  {
   "cell_type": "code",
   "execution_count": null,
   "metadata": {},
   "outputs": [],
   "source": [
    "experimenter.visualize_experiment_results(best_experiment_id_grid)"
   ]
  },
  {
   "cell_type": "code",
   "execution_count": null,
   "metadata": {},
   "outputs": [],
   "source": [
    "best_hyperparams_rdm, best_experiment_id_rdm = experimenter.hyperparam_random_search(data, epochs=2, K=2, vals_per_hyperparam=2, hyperparams=hyperparams_random, experiment_id='random')"
   ]
  },
  {
   "cell_type": "code",
   "execution_count": null,
   "metadata": {},
   "outputs": [],
   "source": [
    "experimenter.visualize_experiment_results(best_experiment_id_rdm)"
   ]
  },
  {
   "cell_type": "code",
   "execution_count": null,
   "metadata": {},
   "outputs": [],
   "source": []
  }
 ],
 "metadata": {
  "kernelspec": {
   "display_name": "Python 3",
   "language": "python",
   "name": "python3"
  },
  "language_info": {
   "codemirror_mode": {
    "name": "ipython",
    "version": 3
   },
   "file_extension": ".py",
   "mimetype": "text/x-python",
   "name": "python",
   "nbconvert_exporter": "python",
   "pygments_lexer": "ipython3",
   "version": "3.6.9"
  }
 },
 "nbformat": 4,
 "nbformat_minor": 4
}
